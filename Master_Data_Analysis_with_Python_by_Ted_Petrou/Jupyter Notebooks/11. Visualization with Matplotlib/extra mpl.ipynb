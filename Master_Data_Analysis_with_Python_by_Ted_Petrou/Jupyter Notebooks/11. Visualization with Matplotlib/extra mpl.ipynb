{
 "cells": [
  {
   "cell_type": "markdown",
   "metadata": {},
   "source": [
    "## Must add"
   ]
  },
  {
   "cell_type": "markdown",
   "metadata": {},
   "source": [
    "### Add?\n",
    "\n",
    "* ax.autoscale_view() for patches vs ax.autoscale\n",
    "* latex text\n",
    "* ax.axis('off')\n",
    "* ax.axisbelow\n",
    "* gridspec\n",
    "* ax.secondary_xaxis\n",
    "* finding all fonts\n",
    "* ax.twinx for sharing axis\n",
    "* scale axis\n",
    "* polar projection\n",
    "* change color cycle `rcparams['axes.prop_cycle'] = cycler(tab20(range(20)))`\n",
    "* interactive plotting (backends)\n",
    "* bound vs xlim - bound changes, lim is set\n",
    "* wide data seaborn\n",
    "\n",
    "### Learn\n",
    "\n",
    "* mouseevent\n",
    "* callbacks\n",
    "* backends\n",
    "\n",
    "### Project\n",
    "\n",
    "* project idea - create dashboard searching for airbnb listings\n"
   ]
  },
  {
   "cell_type": "markdown",
   "metadata": {},
   "source": [
    "### Plots\n",
    "\n",
    "\n",
    "#### Distribution\n",
    "\n",
    "* boxplot\n",
    "* violinplot\n",
    "* hist\n",
    "\n",
    "#### Other\n",
    "* plot_date\n",
    "* step (maybe)\n",
    "* stem\n",
    "* pie\n",
    "* stackplot\n",
    "* hexbin\n",
    "* contour"
   ]
  },
  {
   "cell_type": "markdown",
   "metadata": {},
   "source": [
    "## What makes matplotlib difficult to learn\n",
    "\n",
    "1. There are two interfaces - object-oriented and pyplot\n",
    "2. The documentation is thorough but scattered, with no single, simple, straightforward approach to getting started\n",
    "3. The `plot` method is very convoluted with so many possible positional arguments. It's also misnamed - it's primary purpose is to create line plots. The other data plotting methods are much more explicit\n",
    "4. The hierarchy between the figure and axes\n",
    "5. The word 'axes' - it is not related to the x or y axis. It is the actual 'plot'. I pronounce it 'Axeez' when teaching to differentiate it from 'axis'\n",
    "6. It's difficult to find the possible values for the extra keyword arguments - linestyle, marker, hatch\n",
    "7. Understanding the \"inches\" of the figure\n",
    "8. The multiple coordinate systems - data, axes, figure, figure-inches, display pixels"
   ]
  },
  {
   "cell_type": "code",
   "execution_count": null,
   "metadata": {},
   "outputs": [],
   "source": [
    "import matplotlib\n",
    "from matplotlib.figure import Figure\n",
    "from matplotlib.backends import backend_macosx\n",
    "shell = get_ipython() \n",
    "shell.enable_matplotlib()\n",
    "\n",
    "fig = Figure()\n",
    "ax = fig.add_subplot()\n",
    "canvas = backend_macosx.FigureCanvasMac(fig)\n",
    "manager = backend_macosx.FigureManagerMac(canvas, 1)"
   ]
  },
  {
   "cell_type": "code",
   "execution_count": null,
   "metadata": {},
   "outputs": [],
   "source": [
    "manager.destroy()"
   ]
  },
  {
   "cell_type": "markdown",
   "metadata": {},
   "source": [
    "## Summary of backends\n",
    "\n",
    "* Run `matplotlib.use('backend')`\n",
    "* Default backend is MacOSX\n",
    "* Inline backend is module://ipykernel.pylab.backend_inline\n",
    "* When importing pyplot, code is run to hook up ipython display with matplotlib\n",
    "    * manually do it with `shell = get_ipython(); shell.enable_matplotlib()`\n",
    "* All figures have a canvas. The canvas is the literal surface where the pixels get drawn. `fig.canvas`\n",
    "    * `from matplotlib.backends import backend_macosx; backend_macosx.FigureCanvasMac(fig)`\n",
    "* If there is a window display, that is handled by the figure manager. `fig.canvas.manager`\n",
    "    * `backend_macosx.FigureManagerMac(canvas, 1)` - can name the window title bar with this object\n",
    "* Close window with `manager.destroy()`. Must create new manager to show canvas again.\n",
    "* Update canvas with `canvas.draw()`"
   ]
  },
  {
   "cell_type": "markdown",
   "metadata": {},
   "source": [
    "## What happens when `%matplotlib inline` is run\n",
    "\n",
    "1. Method `matplotlib` is run from IPython/core/magics/pylab.py\n",
    "1. Calls `shell.enable_matplotlib(gui)` from IPython/core/interactiveshell.py\n",
    "1. This imports from IPython.core import pylabtools as pt and calls\n",
    "    1. pt.find_gui_and_backend - imports matplotlib\n",
    "    1. pt.activate_matplotlib(backend) - backend set, imports pyplot\n",
    "        1. importing pyplot calls ipython.core.pylabtools.activate_matplotlib again!\n",
    "    1. pt.configure_inline_support(self, backend)\n",
    "        1. import ipykernel.pylab.backend_inline.InlineBackend"
   ]
  },
  {
   "cell_type": "markdown",
   "metadata": {},
   "source": [
    "## What happens when `import matplotlib.pyplot` is run\n",
    "\n",
    "1. switch_backend is called\n",
    "    1. Line 220 `backend_mod = importlib.import_module(backend_name)`\n",
    "    1. ipykernel.pylab.backend_inline is imported which runs `_enable_matplotlib_integration`\n",
    "    1. which imports from IPython.core.pylabtools and calls activate_matplotlib, configure_inline_support\n",
    "    1. activate_matplotlib calls:\n",
    "        1. switch_backend again, but importing backend_name doesn't trigger calling of module\n",
    "    1. configure_inline_support runs:\n",
    "        1. registers `flush_figures` from `ipykernel.pylab.backend_inline` for post_execute event\n",
    "        1. select_figure_formats is run once to register function hook for each type of image\n",
    "        1. `png_formatter = shell.display_formatter.formatters['image/png']`\n",
    "        1. `png_formatter.for_type(Figure, lambda fig: print_figure(fig, 'png', **kwargs))`\n",
    "        1. print_figure function is finally called which calls the fig.canvas.print_figure function to place data in a BytesIO stream. It is this data that is returned.\n",
    "1. In pyplot, install_repl_displayhook is called and registers event post_execute to draw_all figures - draw using the canvas"
   ]
  },
  {
   "cell_type": "markdown",
   "metadata": {},
   "source": [
    "## What happens when jupyter notebook is launched from command line\n",
    "\n",
    "* from ipython import start_python - call start_python\n",
    "* from IPython.terminal.ipapp import launch_new_instance\n",
    "* Creates notebook.notebookapp.NotebookApp class that calls initialize and then start\n",
    "* When starting a new notebook, ipykernel.kernelapp.IPKernelApp is created and initialize and start are called\n",
    "    * initialize calls init_gui_pylab which sets the backend to inline"
   ]
  },
  {
   "cell_type": "markdown",
   "metadata": {},
   "source": [
    "## Explanation of why image appears for pyplot\n",
    "\n",
    "* flush_figures in ipykernel.pylab.inline_backend is always called after cell execution\n",
    "* it displays all of the 'active' figures.\n",
    "* active figures are created by pyplot with plt.figure or plt.subplots using `_pylab_helpers` Gcf. A fig manager is added to these\n",
    "* No fig manager is added when created with Figure\n"
   ]
  },
  {
   "cell_type": "markdown",
   "metadata": {},
   "source": [
    "## Setting a display formatter\n",
    "\n",
    "```python\n",
    "shell = get_ipython()\n",
    "png_formatter = shell.display_formatter.formatters['image/png']\n",
    "png_formatter.for_type(Figure, func)\n",
    "```"
   ]
  },
  {
   "cell_type": "code",
   "execution_count": null,
   "metadata": {},
   "outputs": [],
   "source": []
  }
 ],
 "metadata": {
  "kernelspec": {
   "display_name": "Python 3",
   "language": "python",
   "name": "python3"
  },
  "language_info": {
   "codemirror_mode": {
    "name": "ipython",
    "version": 3
   },
   "file_extension": ".py",
   "mimetype": "text/x-python",
   "name": "python",
   "nbconvert_exporter": "python",
   "pygments_lexer": "ipython3",
   "version": "3.7.6"
  }
 },
 "nbformat": 4,
 "nbformat_minor": 4
}
