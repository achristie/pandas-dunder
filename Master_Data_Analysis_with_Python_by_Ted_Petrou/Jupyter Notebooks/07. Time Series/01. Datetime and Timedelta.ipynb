{
 "cells": [
  {
   "cell_type": "markdown",
   "metadata": {},
   "source": [
    "# Datetime and Timedelta\n",
    "\n",
    "This chapter covers two distinct concepts, datetimes and timedeltas, and how they are created and used in pandas. A datetime represents a specific **moment** in time. A timedelta represents an **amount** of time.\n",
    "\n",
    "## Date vs Time vs Datetime\n",
    "\n",
    "There is a distinction that needs to be made between the terms **date**, **time**, and **datetime**. They all three mean different things.\n",
    "\n",
    "* **date** - Only the month, day, and year. So 2016-01-01 would represent January 1, 2016 and be considered a **date**.\n",
    "* **time** - Only the hours, minutes, seconds, and parts of a second (milli, micro, nano, etc...). 5 hours, 45 minutes and 6.74234 seconds for example would be considered a **time**.\n",
    "* **datetime** - A combination of a date and time. It has both date (year, month, day) and time (hour, minute, second, part of second) components. January 1, 2016 at 5:45 p.m. would be an example of a **datetime**.\n",
    "\n",
    "The Python standard library contains the [datetime module][1]. It is a popular and important module, but will not be covered here since pandas builds its own datetime and timedelta objects that are more powerful.\n",
    "\n",
    "[1]: https://docs.python.org/3/library/datetime.html"
   ]
  },
  {
   "cell_type": "markdown",
   "metadata": {},
   "source": [
    "### Datetimes in numpy\n",
    "\n",
    "In part 5 of this book, we covered the numpy datetime data type. It is more powerful and flexible than core Python's datetime module, but does not have the features of the pandas datetime object. This chapter only covers datetimes in pandas.\n",
    "\n",
    "## Creating single datetime objects in pandas\n",
    "\n",
    "In part 5, we used the Series constructor to create Series of datetimes. It's actually possible to create single datetime objects with the `to_datetime` function and the `Timestamp` constructor.\n",
    "\n",
    "### Creating a single datetime with the `to_datetime` function\n",
    "\n",
    "The `to_datetime` function converts it's inputs to a single scalar datetime with nanosecond precision. These are analogous to single integers, floats, or strings. They are not part of an array, Series, or DataFrame. It can take a variety of different of different inputs. We begin by converting a string with the format `'YYYY-MM-DD'` to a datetime."
   ]
  },
  {
   "cell_type": "code",
   "execution_count": null,
   "metadata": {},
   "outputs": [],
   "source": [
    "import pandas as pd\n",
    "d = pd.to_datetime('2020-01-05')\n",
    "d"
   ]
  },
  {
   "cell_type": "markdown",
   "metadata": {},
   "source": [
    "This is a new type of object. Let's retrieve its type."
   ]
  },
  {
   "cell_type": "code",
   "execution_count": null,
   "metadata": {},
   "outputs": [],
   "source": [
    "type(d)"
   ]
  },
  {
   "cell_type": "markdown",
   "metadata": {},
   "source": [
    "### Why is a Timestamp object returned?\n",
    "\n",
    "The type that pandas uses for individual datetimes is `Timestamp`. In general, the word 'timestamp' has the same meaning as datetime. If you look at the docstring for `to_datetime` to states the following:\n",
    "\n",
    "> Convert argument to datetime.\n",
    "\n",
    "It would have been nice if pandas had chosen the name `Datetime` for the type so that it could match the name of the data type and function, but it did not, and thus there is potential for confusion. Let's create a Series of datetimes to show that the data type is `'datetime64[ns]'`."
   ]
  },
  {
   "cell_type": "code",
   "execution_count": null,
   "metadata": {},
   "outputs": [],
   "source": [
    "s = pd.Series(['2020-01-05', '2020-01-06'], dtype='datetime64[ns]')\n",
    "s"
   ]
  },
  {
   "cell_type": "markdown",
   "metadata": {},
   "source": [
    "When selecting a single value from this Series, a Timestamp object is returned. In the official documentation, both words 'timestamp' and 'datetime' are used interchangeably to refer to the same concept - an object with year, month, day, hour, minute, second, and part of second components."
   ]
  },
  {
   "cell_type": "code",
   "execution_count": null,
   "metadata": {},
   "outputs": [],
   "source": [
    "s.loc[0]"
   ]
  },
  {
   "cell_type": "markdown",
   "metadata": {},
   "source": [
    "### More string formats\n",
    "\n",
    "Let's see more examples of strings with different formats that can be converted to datetimes. Here, we use a hyphen to separate the components but do not place the leading zero in front of the month and day. It's important to remember that `to_datetime` is a function and not a Series or DataFrame method. It must be accessed directly from `pd`. "
   ]
  },
  {
   "cell_type": "code",
   "execution_count": null,
   "metadata": {},
   "outputs": [],
   "source": [
    "pd.to_datetime('2016-1-5')"
   ]
  },
  {
   "cell_type": "markdown",
   "metadata": {},
   "source": [
    "The hour, minute, second, and part of second components were not explicitly given, so pandas sets them to 0. Let's slowly create more datetimes by adding one more component each time. Here, we add the hour."
   ]
  },
  {
   "cell_type": "code",
   "execution_count": null,
   "metadata": {},
   "outputs": [],
   "source": [
    "pd.to_datetime('2020-1-5 15')"
   ]
  },
  {
   "cell_type": "markdown",
   "metadata": {},
   "source": [
    "The hour and minute are separated by a colon."
   ]
  },
  {
   "cell_type": "code",
   "execution_count": null,
   "metadata": {},
   "outputs": [],
   "source": [
    "pd.to_datetime('2020-1-5 15:39')"
   ]
  },
  {
   "cell_type": "markdown",
   "metadata": {},
   "source": [
    "The minute and second are also separated by a colon."
   ]
  },
  {
   "cell_type": "code",
   "execution_count": null,
   "metadata": {},
   "outputs": [],
   "source": [
    "pd.to_datetime('2020-1-5 15:39:55')"
   ]
  },
  {
   "cell_type": "markdown",
   "metadata": {},
   "source": [
    "The part of second needs to be separated from the second by a decimal. There is only enough precision to contain nanoseconds, which are nine places after the decimal. The last two decimal places are truncated below."
   ]
  },
  {
   "cell_type": "code",
   "execution_count": null,
   "metadata": {},
   "outputs": [],
   "source": [
    "pd.to_datetime('2020-1-5 15:39:55.12345678912')"
   ]
  },
  {
   "cell_type": "markdown",
   "metadata": {},
   "source": [
    "Forward slashes can be used instead of hyphens to separate the date components. The hour, minute, and second components do not require any separator."
   ]
  },
  {
   "cell_type": "code",
   "execution_count": null,
   "metadata": {},
   "outputs": [],
   "source": [
    "pd.to_datetime('2020/01/05 153955.123456789')"
   ]
  },
  {
   "cell_type": "markdown",
   "metadata": {},
   "source": [
    "The date components also don't need a separator."
   ]
  },
  {
   "cell_type": "code",
   "execution_count": null,
   "metadata": {},
   "outputs": [],
   "source": [
    "pd.to_datetime('20200105 153955.123456789')"
   ]
  },
  {
   "cell_type": "markdown",
   "metadata": {},
   "source": [
    "You can also use the month name spelled out as a string, have an ending for the day, and use AM/PM to denote part of day."
   ]
  },
  {
   "cell_type": "code",
   "execution_count": null,
   "metadata": {},
   "outputs": [],
   "source": [
    "pd.to_datetime('January 5th, 2020 03:39:55 PM')"
   ]
  },
  {
   "cell_type": "markdown",
   "metadata": {},
   "source": [
    "### Epoch\n",
    "The term epoch refers to the origin of a particular era. Like many other programming languages, Python uses January 1, 1970 (also known as the Unix epoch) as its epoch for keeping track of datetime. In pandas, integers are used to represent the number of nanoseconds that have elapsed since the epoch.\n",
    "\n",
    "### Converting numbers to Timestamps\n",
    "\n",
    "The `to_datetime` function also accepts numbers and converts them to Timestamps. By default, it uses nanoseconds as the units for the passed number. The following creates a datetime 100 nanoseconds after January 1, 1970."
   ]
  },
  {
   "cell_type": "code",
   "execution_count": null,
   "metadata": {},
   "outputs": [],
   "source": [
    "pd.to_datetime(100)"
   ]
  },
  {
   "cell_type": "markdown",
   "metadata": {},
   "source": [
    "### Specify unit\n",
    "\n",
    "The default unit is nanoseconds, but you can specify a different one with the `unit` parameter. Here, we create a datetime 100 seconds after the epoch."
   ]
  },
  {
   "cell_type": "code",
   "execution_count": null,
   "metadata": {},
   "outputs": [],
   "source": [
    "pd.to_datetime(100, unit='s')"
   ]
  },
  {
   "cell_type": "markdown",
   "metadata": {},
   "source": [
    "Here a datetime 20,000 days after the epoch is created."
   ]
  },
  {
   "cell_type": "code",
   "execution_count": null,
   "metadata": {},
   "outputs": [],
   "source": [
    "pd.to_datetime(20_000, unit='d')"
   ]
  },
  {
   "cell_type": "markdown",
   "metadata": {},
   "source": [
    "### Datetimes in DataFrames\n",
    "\n",
    "It's more common to encounter datetimes in a DataFrame. Let's read in the City of Houston employee dataset converting the `hire_date` column to a datetime."
   ]
  },
  {
   "cell_type": "code",
   "execution_count": null,
   "metadata": {},
   "outputs": [],
   "source": [
    "emp = pd.read_csv('../data/employee.csv', parse_dates=['hire_date'])\n",
    "emp.dtypes"
   ]
  },
  {
   "cell_type": "markdown",
   "metadata": {},
   "source": [
    "### Each individual value in the datetime columns is a Timestamp\n",
    "\n",
    "If we extract the `hire_date` column as a Series and print out the first few rows, you will see that data type (at the bottom of the output) is still written with the word `datetime64[ns]`."
   ]
  },
  {
   "cell_type": "code",
   "execution_count": null,
   "metadata": {},
   "outputs": [],
   "source": [
    "hire_date = emp['hire_date']\n",
    "hire_date.head()"
   ]
  },
  {
   "cell_type": "markdown",
   "metadata": {},
   "source": [
    "If we select the first value in the Series, we get a Timestamp."
   ]
  },
  {
   "cell_type": "code",
   "execution_count": null,
   "metadata": {},
   "outputs": [],
   "source": [
    "hire_date.loc[0]"
   ]
  },
  {
   "cell_type": "markdown",
   "metadata": {},
   "source": [
    "## Timestamp attributes and methods\n",
    "\n",
    "Timestamp objects have similar attributes and methods as the `dt` Series accessor. Let's create a Timestamp and retrieve see some of these attributes."
   ]
  },
  {
   "cell_type": "code",
   "execution_count": null,
   "metadata": {},
   "outputs": [],
   "source": [
    "ts = pd.to_datetime('February 14, 2019 20:45.56')"
   ]
  },
  {
   "cell_type": "code",
   "execution_count": null,
   "metadata": {},
   "outputs": [],
   "source": [
    "ts.year"
   ]
  },
  {
   "cell_type": "code",
   "execution_count": null,
   "metadata": {},
   "outputs": [],
   "source": [
    "ts.month"
   ]
  },
  {
   "cell_type": "code",
   "execution_count": null,
   "metadata": {
    "scrolled": true
   },
   "outputs": [],
   "source": [
    "ts.day"
   ]
  },
  {
   "cell_type": "code",
   "execution_count": null,
   "metadata": {},
   "outputs": [],
   "source": [
    "ts.second"
   ]
  },
  {
   "cell_type": "code",
   "execution_count": null,
   "metadata": {},
   "outputs": [],
   "source": [
    "ts.weekofyear"
   ]
  },
  {
   "cell_type": "code",
   "execution_count": null,
   "metadata": {},
   "outputs": [],
   "source": [
    "ts.dayofyear"
   ]
  },
  {
   "cell_type": "markdown",
   "metadata": {},
   "source": [
    "Several methods also exist, which we use below."
   ]
  },
  {
   "cell_type": "code",
   "execution_count": null,
   "metadata": {},
   "outputs": [],
   "source": [
    "ts.day_name()"
   ]
  },
  {
   "cell_type": "code",
   "execution_count": null,
   "metadata": {},
   "outputs": [],
   "source": [
    "ts.month_name()"
   ]
  },
  {
   "cell_type": "markdown",
   "metadata": {},
   "source": [
    "The offset aliases are used for the `round`, `ceil`, and `floor` methods. Here, we round to the nearest hour."
   ]
  },
  {
   "cell_type": "code",
   "execution_count": null,
   "metadata": {},
   "outputs": [],
   "source": [
    "ts.round('H')"
   ]
  },
  {
   "cell_type": "markdown",
   "metadata": {},
   "source": [
    "## Timedelta - an amount of time\n",
    "\n",
    "A timedelta is a specific amount of time such as 20 seconds, or 13 days 5 minutes and 10 seconds. Use the `to_timedelta` function to create a Timedelta object. It works analogously to the `to_datetime` function. A wide variety of strings are able to be converted to Timedeltas."
   ]
  },
  {
   "cell_type": "code",
   "execution_count": null,
   "metadata": {},
   "outputs": [],
   "source": [
    "pd.to_timedelta('5 days 03:12:45.123')"
   ]
  },
  {
   "cell_type": "code",
   "execution_count": null,
   "metadata": {},
   "outputs": [],
   "source": [
    "pd.to_timedelta('10h 13ms')"
   ]
  },
  {
   "cell_type": "markdown",
   "metadata": {},
   "source": [
    "### Converting numbers to Timedeltas with `to_timedelta`\n",
    "\n",
    "As with `to_datetime`, passing a number to `to_timedelta` will be by default treated as the number of nanoseconds. Use the `unit` parameter to change the time unit. We start by converting 123,000 nanoseconds to a timedelta."
   ]
  },
  {
   "cell_type": "code",
   "execution_count": null,
   "metadata": {},
   "outputs": [],
   "source": [
    "pd.to_timedelta(123_000)"
   ]
  },
  {
   "cell_type": "markdown",
   "metadata": {},
   "source": [
    "Here, we create a timedelta of exactly 500 days."
   ]
  },
  {
   "cell_type": "code",
   "execution_count": null,
   "metadata": {},
   "outputs": [],
   "source": [
    "pd.to_timedelta(500, unit='d')"
   ]
  },
  {
   "cell_type": "markdown",
   "metadata": {},
   "source": [
    "Over 700 hours converted to a timedelta."
   ]
  },
  {
   "cell_type": "code",
   "execution_count": null,
   "metadata": {},
   "outputs": [],
   "source": [
    "pd.to_timedelta(705.87, unit='h')"
   ]
  },
  {
   "cell_type": "markdown",
   "metadata": {},
   "source": [
    "Since years is not a standard amount, you'll get an error if you use it's unit abbreviation, 'y'. Month is also not a standard unit so you won't be able to use it either."
   ]
  },
  {
   "cell_type": "code",
   "execution_count": null,
   "metadata": {},
   "outputs": [],
   "source": [
    "pd.to_timedelta(23, unit='y')"
   ]
  },
  {
   "cell_type": "markdown",
   "metadata": {},
   "source": [
    "### No name confusion with Timedelta\n",
    "\n",
    "Pandas Timedelta is built upon numpy's timedelta64 data type which is superior to the standard library's datetime module's timedelta. Fortunately, the pandas developers used the name timedelta for the data type which is the same as numpy's. There is no name confusion here, unlike there is with timestamp/datetime."
   ]
  },
  {
   "cell_type": "markdown",
   "metadata": {},
   "source": [
    "## Timedelta attributes and methods\n",
    "\n",
    "There are many attributes and methods available to Timedelta objects. Let's see some below:"
   ]
  },
  {
   "cell_type": "code",
   "execution_count": null,
   "metadata": {},
   "outputs": [],
   "source": [
    "td = pd.to_timedelta(705.87, unit='h')\n",
    "td"
   ]
  },
  {
   "cell_type": "code",
   "execution_count": null,
   "metadata": {},
   "outputs": [],
   "source": [
    "td.days"
   ]
  },
  {
   "cell_type": "code",
   "execution_count": null,
   "metadata": {},
   "outputs": [],
   "source": [
    "td.seconds"
   ]
  },
  {
   "cell_type": "code",
   "execution_count": null,
   "metadata": {},
   "outputs": [],
   "source": [
    "td.components"
   ]
  },
  {
   "cell_type": "markdown",
   "metadata": {},
   "source": [
    "## Creating timedeltas by subtracting datetimes\n",
    "\n",
    "It is possible to create timedeltas by subtracting two datetimes."
   ]
  },
  {
   "cell_type": "code",
   "execution_count": null,
   "metadata": {},
   "outputs": [],
   "source": [
    "dt1 = pd.to_datetime('2012-12-21 5:30')\n",
    "dt2 = pd.to_datetime('2016-1-1 12:45:12')\n",
    "dt2 - dt1"
   ]
  },
  {
   "cell_type": "markdown",
   "metadata": {},
   "source": [
    "### Negative Timedeltas\n",
    "\n",
    "A negative timedelta is possible just like any negative number is."
   ]
  },
  {
   "cell_type": "code",
   "execution_count": null,
   "metadata": {},
   "outputs": [],
   "source": [
    "dt1 - dt2"
   ]
  },
  {
   "cell_type": "markdown",
   "metadata": {},
   "source": [
    "### Math with Timedeltas\n",
    "\n",
    "You can do many different math operations with two timedeltas together."
   ]
  },
  {
   "cell_type": "code",
   "execution_count": null,
   "metadata": {},
   "outputs": [],
   "source": [
    "td1 = pd.to_timedelta('05:23:10')\n",
    "td2 = pd.to_timedelta('00:02:20')\n",
    "td1 - td2"
   ]
  },
  {
   "cell_type": "code",
   "execution_count": null,
   "metadata": {},
   "outputs": [],
   "source": [
    "td2 + 5 * td2"
   ]
  },
  {
   "cell_type": "markdown",
   "metadata": {},
   "source": [
    "Dividing two timedeltas will remove the units and return a number."
   ]
  },
  {
   "cell_type": "code",
   "execution_count": null,
   "metadata": {},
   "outputs": [],
   "source": [
    "td1 / td2"
   ]
  },
  {
   "cell_type": "markdown",
   "metadata": {},
   "source": [
    "### Creating Timedeltas in a DataFrame by subtracting two Datetime columns\n",
    "\n",
    "The bikes dataset has two datetime columns, `starttime` and `stoptime`."
   ]
  },
  {
   "cell_type": "code",
   "execution_count": null,
   "metadata": {},
   "outputs": [],
   "source": [
    "bikes = pd.read_csv('../data/bikes.csv', parse_dates=['starttime', 'stoptime'])\n",
    "bikes.head(2)"
   ]
  },
  {
   "cell_type": "markdown",
   "metadata": {},
   "source": [
    "Let's find the amount of time that elapsed between the start and stop times."
   ]
  },
  {
   "cell_type": "code",
   "execution_count": null,
   "metadata": {},
   "outputs": [],
   "source": [
    "time_elapsed = bikes['stoptime'] - bikes['starttime']\n",
    "time_elapsed.head()"
   ]
  },
  {
   "cell_type": "markdown",
   "metadata": {},
   "source": [
    "Since both start and stop time are datetime columns, subtracting them resulted in a timedelta column. The maximum unit of time for timedelta is days."
   ]
  },
  {
   "cell_type": "markdown",
   "metadata": {},
   "source": [
    "## Exercises"
   ]
  },
  {
   "cell_type": "markdown",
   "metadata": {},
   "source": [
    "### Exercise 1\n",
    "<span  style=\"color:green; font-size:16px\">What day of the week was Jan 15, 1997?</span>"
   ]
  },
  {
   "cell_type": "code",
   "execution_count": null,
   "metadata": {},
   "outputs": [],
   "source": []
  },
  {
   "cell_type": "markdown",
   "metadata": {},
   "source": [
    "### Exercise 2\n",
    "<span  style=\"color:green; font-size:16px\">Was 1925 a leap year?</span>"
   ]
  },
  {
   "cell_type": "code",
   "execution_count": null,
   "metadata": {},
   "outputs": [],
   "source": []
  },
  {
   "cell_type": "markdown",
   "metadata": {},
   "source": [
    "### Exercise 3\n",
    "<span  style=\"color:green; font-size:16px\">What year will it be 1 million hours after the UNIX epoch?</span>"
   ]
  },
  {
   "cell_type": "code",
   "execution_count": null,
   "metadata": {},
   "outputs": [],
   "source": []
  },
  {
   "cell_type": "markdown",
   "metadata": {},
   "source": [
    "### Exercise 4\n",
    "<span  style=\"color:green; font-size:16px\">Create the datetime July 20, 1969 at 2:56 a.m. and 15 seconds.</span>"
   ]
  },
  {
   "cell_type": "code",
   "execution_count": null,
   "metadata": {},
   "outputs": [],
   "source": []
  },
  {
   "cell_type": "markdown",
   "metadata": {},
   "source": [
    "### Exercise 5\n",
    "<span  style=\"color:green; font-size:16px\">Neil Armstrong stepped on the moon at the time in the last exercise. How many days have passed since that happened? Use the string 'today' when creating your datetime.</span>"
   ]
  },
  {
   "cell_type": "code",
   "execution_count": null,
   "metadata": {},
   "outputs": [],
   "source": []
  },
  {
   "cell_type": "markdown",
   "metadata": {},
   "source": [
    "### Exercise 6\n",
    "<span  style=\"color:green; font-size:16px\">Which is larger - 35 days or 700 hours?</span>"
   ]
  },
  {
   "cell_type": "code",
   "execution_count": null,
   "metadata": {},
   "outputs": [],
   "source": []
  },
  {
   "cell_type": "markdown",
   "metadata": {},
   "source": [
    "### Exercise 7\n",
    "\n",
    "<span style=\"color:green; font-size:16px\">The City of Houston employee data was retrieved on June 1, 2019. Can you calculate the exact amount of years of experience and assign as a new column named `experience`?</span>"
   ]
  },
  {
   "cell_type": "code",
   "execution_count": null,
   "metadata": {},
   "outputs": [],
   "source": []
  }
 ],
 "metadata": {
  "anaconda-cloud": {},
  "kernelspec": {
   "display_name": "Python 3",
   "language": "python",
   "name": "python3"
  },
  "language_info": {
   "codemirror_mode": {
    "name": "ipython",
    "version": 3
   },
   "file_extension": ".py",
   "mimetype": "text/x-python",
   "name": "python",
   "nbconvert_exporter": "python",
   "pygments_lexer": "ipython3",
   "version": "3.7.6"
  },
  "varInspector": {
   "cols": {
    "lenName": 16,
    "lenType": 16,
    "lenVar": 40
   },
   "kernels_config": {
    "python": {
     "delete_cmd_postfix": "",
     "delete_cmd_prefix": "del ",
     "library": "var_list.py",
     "varRefreshCmd": "print(var_dic_list())"
    },
    "r": {
     "delete_cmd_postfix": ") ",
     "delete_cmd_prefix": "rm(",
     "library": "var_list.r",
     "varRefreshCmd": "cat(var_dic_list()) "
    }
   },
   "types_to_exclude": [
    "module",
    "function",
    "builtin_function_or_method",
    "instance",
    "_Feature"
   ],
   "window_display": false
  }
 },
 "nbformat": 4,
 "nbformat_minor": 1
}
